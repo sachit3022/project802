{
 "cells": [
  {
   "cell_type": "code",
   "execution_count": 17,
   "metadata": {},
   "outputs": [],
   "source": [
    "import numpy as np\n",
    "import torch\n",
    "import torch.nn as nn\n",
    "from torchvision.models import resnet18, ResNet18_Weights\n",
    "from Dataloader import WholeDataset,BaseModel,ResetWeigtsDataset\n",
    "from torch.utils.data import  DataLoader,SubsetRandomSampler\n",
    "from sklearn.neighbors import KNeighborsClassifier\n",
    "from Config import config,Args\n",
    "from Metrics import ComputeMetrics\n",
    "from sklearn.model_selection import KFold\n",
    "from tqdm import tqdm\n",
    "from models.DimRed import zca_whitening_matrix\n",
    "import math\n",
    "from sklearn.neighbors import KernelDensity"
   ]
  },
  {
   "cell_type": "code",
   "execution_count": 18,
   "metadata": {},
   "outputs": [],
   "source": [
    "args_train = Args(\"train\")\n",
    "train_dataset = WholeDataset(args_train)\n",
    "args_test  = Args(\"test\")\n",
    "test_dataset = WholeDataset(args_test)\n",
    "\n",
    "train_dataset = ResetWeigtsDataset(\"ResnetFeaturesTrain.pt\",\"train\")\n",
    "test_dataset = ResetWeigtsDataset(\"ResnetFeaturesTest.pt\",\"test\")\n",
    "\n",
    "train_dataloader = DataLoader(train_dataset,shuffle=True,batch_size=40000,num_workers=4,pin_memory=True,persistent_workers=True)\n",
    "test_dataloader = DataLoader(test_dataset,shuffle=False,batch_size=2000,num_workers=4,pin_memory=True,persistent_workers=True)\n",
    "X_t,y_t,s_t = next(iter(train_dataloader))#train_dataset[:1000]\n",
    "X_v,y_v,s_v = next(iter(test_dataloader))#test_dataset[:1000] \n",
    "#X_t= X_t.flatten(start_dim=1)\n",
    "#X_v =  X_v.flatten(start_dim=1)"
   ]
  },
  {
   "cell_type": "code",
   "execution_count": 25,
   "metadata": {},
   "outputs": [
    {
     "ename": "ValueError",
     "evalue": "pic should be 2/3 dimensional. Got 4 dimensions.",
     "output_type": "error",
     "traceback": [
      "\u001b[0;31m---------------------------------------------------------------------------\u001b[0m",
      "\u001b[0;31mValueError\u001b[0m                                Traceback (most recent call last)",
      "\u001b[0;32m/tmp/ipykernel_1837000/784196579.py\u001b[0m in \u001b[0;36m<module>\u001b[0;34m\u001b[0m\n\u001b[0;32m----> 1\u001b[0;31m \u001b[0mtrain_dataset\u001b[0m\u001b[0;34m[\u001b[0m\u001b[0;34m[\u001b[0m\u001b[0;36m1\u001b[0m\u001b[0;34m,\u001b[0m\u001b[0;36m2\u001b[0m\u001b[0;34m]\u001b[0m\u001b[0;34m]\u001b[0m\u001b[0;34m\u001b[0m\u001b[0;34m\u001b[0m\u001b[0m\n\u001b[0m",
      "\u001b[0;32m/research/hal-gaudisac/project802/Dataloader.py\u001b[0m in \u001b[0;36m__getitem__\u001b[0;34m(self, index)\u001b[0m\n\u001b[1;32m    100\u001b[0m         \u001b[0mimage\u001b[0m \u001b[0;34m=\u001b[0m \u001b[0mself\u001b[0m\u001b[0;34m.\u001b[0m\u001b[0mimage\u001b[0m\u001b[0;34m[\u001b[0m\u001b[0mindex\u001b[0m\u001b[0;34m]\u001b[0m\u001b[0;34m\u001b[0m\u001b[0;34m\u001b[0m\u001b[0m\n\u001b[1;32m    101\u001b[0m \u001b[0;34m\u001b[0m\u001b[0m\n\u001b[0;32m--> 102\u001b[0;31m         \u001b[0mimage\u001b[0m \u001b[0;34m=\u001b[0m \u001b[0mself\u001b[0m\u001b[0;34m.\u001b[0m\u001b[0mToPIL\u001b[0m\u001b[0;34m(\u001b[0m\u001b[0mimage\u001b[0m\u001b[0;34m)\u001b[0m\u001b[0;34m\u001b[0m\u001b[0;34m\u001b[0m\u001b[0m\n\u001b[0m\u001b[1;32m    103\u001b[0m \u001b[0;34m\u001b[0m\u001b[0m\n\u001b[1;32m    104\u001b[0m \u001b[0;34m\u001b[0m\u001b[0m\n",
      "\u001b[0;32m/research/hal-gaudisac/anaconda3/lib/python3.9/site-packages/torchvision/transforms/transforms.py\u001b[0m in \u001b[0;36m__call__\u001b[0;34m(self, img)\u001b[0m\n\u001b[1;32m     93\u001b[0m     \u001b[0;32mdef\u001b[0m \u001b[0m__call__\u001b[0m\u001b[0;34m(\u001b[0m\u001b[0mself\u001b[0m\u001b[0;34m,\u001b[0m \u001b[0mimg\u001b[0m\u001b[0;34m)\u001b[0m\u001b[0;34m:\u001b[0m\u001b[0;34m\u001b[0m\u001b[0;34m\u001b[0m\u001b[0m\n\u001b[1;32m     94\u001b[0m         \u001b[0;32mfor\u001b[0m \u001b[0mt\u001b[0m \u001b[0;32min\u001b[0m \u001b[0mself\u001b[0m\u001b[0;34m.\u001b[0m\u001b[0mtransforms\u001b[0m\u001b[0;34m:\u001b[0m\u001b[0;34m\u001b[0m\u001b[0;34m\u001b[0m\u001b[0m\n\u001b[0;32m---> 95\u001b[0;31m             \u001b[0mimg\u001b[0m \u001b[0;34m=\u001b[0m \u001b[0mt\u001b[0m\u001b[0;34m(\u001b[0m\u001b[0mimg\u001b[0m\u001b[0;34m)\u001b[0m\u001b[0;34m\u001b[0m\u001b[0;34m\u001b[0m\u001b[0m\n\u001b[0m\u001b[1;32m     96\u001b[0m         \u001b[0;32mreturn\u001b[0m \u001b[0mimg\u001b[0m\u001b[0;34m\u001b[0m\u001b[0;34m\u001b[0m\u001b[0m\n\u001b[1;32m     97\u001b[0m \u001b[0;34m\u001b[0m\u001b[0m\n",
      "\u001b[0;32m/research/hal-gaudisac/anaconda3/lib/python3.9/site-packages/torchvision/transforms/transforms.py\u001b[0m in \u001b[0;36m__call__\u001b[0;34m(self, pic)\u001b[0m\n\u001b[1;32m    225\u001b[0m \u001b[0;34m\u001b[0m\u001b[0m\n\u001b[1;32m    226\u001b[0m         \"\"\"\n\u001b[0;32m--> 227\u001b[0;31m         \u001b[0;32mreturn\u001b[0m \u001b[0mF\u001b[0m\u001b[0;34m.\u001b[0m\u001b[0mto_pil_image\u001b[0m\u001b[0;34m(\u001b[0m\u001b[0mpic\u001b[0m\u001b[0;34m,\u001b[0m \u001b[0mself\u001b[0m\u001b[0;34m.\u001b[0m\u001b[0mmode\u001b[0m\u001b[0;34m)\u001b[0m\u001b[0;34m\u001b[0m\u001b[0;34m\u001b[0m\u001b[0m\n\u001b[0m\u001b[1;32m    228\u001b[0m \u001b[0;34m\u001b[0m\u001b[0m\n\u001b[1;32m    229\u001b[0m     \u001b[0;32mdef\u001b[0m \u001b[0m__repr__\u001b[0m\u001b[0;34m(\u001b[0m\u001b[0mself\u001b[0m\u001b[0;34m)\u001b[0m \u001b[0;34m->\u001b[0m \u001b[0mstr\u001b[0m\u001b[0;34m:\u001b[0m\u001b[0;34m\u001b[0m\u001b[0;34m\u001b[0m\u001b[0m\n",
      "\u001b[0;32m/research/hal-gaudisac/anaconda3/lib/python3.9/site-packages/torchvision/transforms/functional.py\u001b[0m in \u001b[0;36mto_pil_image\u001b[0;34m(pic, mode)\u001b[0m\n\u001b[1;32m    276\u001b[0m     \u001b[0;32melif\u001b[0m \u001b[0misinstance\u001b[0m\u001b[0;34m(\u001b[0m\u001b[0mpic\u001b[0m\u001b[0;34m,\u001b[0m \u001b[0mnp\u001b[0m\u001b[0;34m.\u001b[0m\u001b[0mndarray\u001b[0m\u001b[0;34m)\u001b[0m\u001b[0;34m:\u001b[0m\u001b[0;34m\u001b[0m\u001b[0;34m\u001b[0m\u001b[0m\n\u001b[1;32m    277\u001b[0m         \u001b[0;32mif\u001b[0m \u001b[0mpic\u001b[0m\u001b[0;34m.\u001b[0m\u001b[0mndim\u001b[0m \u001b[0;32mnot\u001b[0m \u001b[0;32min\u001b[0m \u001b[0;34m{\u001b[0m\u001b[0;36m2\u001b[0m\u001b[0;34m,\u001b[0m \u001b[0;36m3\u001b[0m\u001b[0;34m}\u001b[0m\u001b[0;34m:\u001b[0m\u001b[0;34m\u001b[0m\u001b[0;34m\u001b[0m\u001b[0m\n\u001b[0;32m--> 278\u001b[0;31m             \u001b[0;32mraise\u001b[0m \u001b[0mValueError\u001b[0m\u001b[0;34m(\u001b[0m\u001b[0;34mf\"pic should be 2/3 dimensional. Got {pic.ndim} dimensions.\"\u001b[0m\u001b[0;34m)\u001b[0m\u001b[0;34m\u001b[0m\u001b[0;34m\u001b[0m\u001b[0m\n\u001b[0m\u001b[1;32m    279\u001b[0m \u001b[0;34m\u001b[0m\u001b[0m\n\u001b[1;32m    280\u001b[0m         \u001b[0;32melif\u001b[0m \u001b[0mpic\u001b[0m\u001b[0;34m.\u001b[0m\u001b[0mndim\u001b[0m \u001b[0;34m==\u001b[0m \u001b[0;36m2\u001b[0m\u001b[0;34m:\u001b[0m\u001b[0;34m\u001b[0m\u001b[0;34m\u001b[0m\u001b[0m\n",
      "\u001b[0;31mValueError\u001b[0m: pic should be 2/3 dimensional. Got 4 dimensions."
     ]
    }
   ],
   "source": [
    "train_dataset[[1,2]]"
   ]
  },
  {
   "cell_type": "code",
   "execution_count": 15,
   "metadata": {},
   "outputs": [
    {
     "data": {
      "text/plain": [
       "KNeighborsClassifier()"
      ]
     },
     "execution_count": 15,
     "metadata": {},
     "output_type": "execute_result"
    }
   ],
   "source": [
    "knn = KNeighborsClassifier(n_neighbors=5)\n",
    "knn.fit(X_t,y_t)"
   ]
  },
  {
   "cell_type": "code",
   "execution_count": 18,
   "metadata": {},
   "outputs": [
    {
     "name": "stderr",
     "output_type": "stream",
     "text": [
      "/research/hal-gaudisac/anaconda3/lib/python3.9/site-packages/sklearn/neighbors/_classification.py:228: FutureWarning: Unlike other reduction functions (e.g. `skew`, `kurtosis`), the default behavior of `mode` typically preserves the axis it acts along. In SciPy 1.11.0, this behavior will change: the default value of `keepdims` will become False, the `axis` over which the statistic is taken will be eliminated, and the value None will no longer be accepted. Set `keepdims` to True or False to avoid this warning.\n",
      "  mode, _ = stats.mode(_y[neigh_ind, k], axis=1)\n"
     ]
    }
   ],
   "source": [
    "y_pred = knn.predict(X_v) "
   ]
  },
  {
   "cell_type": "code",
   "execution_count": 19,
   "metadata": {},
   "outputs": [
    {
     "data": {
      "text/plain": [
       "({'f1': tensor([0.5921, 0.6313, 0.2920, 0.3556, 0.3514, 0.3308, 0.2200, 0.3140, 0.3103,\n",
       "          0.2613]),\n",
       "  'accuracy': tensor([0.5294, 0.8492, 0.1724, 0.2991, 0.2364, 0.2529, 0.1264, 0.1919, 0.2022,\n",
       "          0.7979]),\n",
       "  'precesion': tensor([0.6716, 0.5023, 0.9524, 0.4384, 0.6842, 0.4783, 0.8462, 0.8636, 0.6667,\n",
       "          0.1562]),\n",
       "  'recall': tensor([0.5294, 0.8492, 0.1724, 0.2991, 0.2364, 0.2529, 0.1264, 0.1919, 0.2022,\n",
       "          0.7979]),\n",
       "  'confmat': tensor([[ 45,   0,   0,  12,   0,   2,   0,   0,   0,  26],\n",
       "          [  0, 107,   0,   0,   0,   0,   0,   0,   0,  19],\n",
       "          [  7,  32,  20,   7,   0,   2,   0,   1,   0,  47],\n",
       "          [  0,  12,   1,  32,   0,  10,   0,   0,   4,  48],\n",
       "          [  0,   8,   0,   1,  26,   0,   1,   0,   0,  74],\n",
       "          [  4,   5,   0,   4,   0,  22,   0,   0,   5,  47],\n",
       "          [ 10,   8,   0,   0,   4,   7,  11,   0,   0,  47],\n",
       "          [  0,  23,   0,   0,   1,   0,   0,  19,   0,  56],\n",
       "          [  1,  10,   0,  14,   1,   3,   1,   0,  18,  41],\n",
       "          [  0,   8,   0,   3,   6,   0,   0,   2,   0,  75]])},\n",
       " {'f1': tensor(0.3659),\n",
       "  'accuracy': tensor(0.3658),\n",
       "  'precesion': tensor(0.6260),\n",
       "  'recall': tensor(0.3658)})"
      ]
     },
     "execution_count": 19,
     "metadata": {},
     "output_type": "execute_result"
    }
   ],
   "source": [
    "compute_metrics(torch.tensor(y_pred),y_v)"
   ]
  },
  {
   "cell_type": "code",
   "execution_count": 2,
   "metadata": {},
   "outputs": [],
   "source": [
    "from Dataloader import ClassConditionalPermutation"
   ]
  },
  {
   "cell_type": "code",
   "execution_count": 3,
   "metadata": {},
   "outputs": [],
   "source": [
    "classCondPerm = ClassConditionalPermutation(0.2)"
   ]
  },
  {
   "cell_type": "code",
   "execution_count": 7,
   "metadata": {},
   "outputs": [
    {
     "name": "stderr",
     "output_type": "stream",
     "text": [
      "/research/hal-gaudisac/project802/Dataloader.py:107: UserWarning: The given NumPy array is not writable, and PyTorch does not support non-writable tensors. This means writing to this tensor will result in undefined behavior. You may want to copy the array to protect its data or make it writable before converting it to a tensor. This type of warning will be suppressed for the rest of this program. (Triggered internally at /opt/conda/conda-bld/pytorch_1674893616450/work/torch/csrc/utils/tensor_numpy.cpp:206.)\n",
      "  label_image = torch.from_numpy(np.transpose(label_image,(2,0,1)))\n",
      "/research/hal-gaudisac/project802/Dataloader.py:107: UserWarning: The given NumPy array is not writable, and PyTorch does not support non-writable tensors. This means writing to this tensor will result in undefined behavior. You may want to copy the array to protect its data or make it writable before converting it to a tensor. This type of warning will be suppressed for the rest of this program. (Triggered internally at /opt/conda/conda-bld/pytorch_1674893616450/work/torch/csrc/utils/tensor_numpy.cpp:206.)\n",
      "  label_image = torch.from_numpy(np.transpose(label_image,(2,0,1)))\n",
      "/research/hal-gaudisac/project802/Dataloader.py:107: UserWarning: The given NumPy array is not writable, and PyTorch does not support non-writable tensors. This means writing to this tensor will result in undefined behavior. You may want to copy the array to protect its data or make it writable before converting it to a tensor. This type of warning will be suppressed for the rest of this program. (Triggered internally at /opt/conda/conda-bld/pytorch_1674893616450/work/torch/csrc/utils/tensor_numpy.cpp:206.)\n",
      "  label_image = torch.from_numpy(np.transpose(label_image,(2,0,1)))\n",
      "/research/hal-gaudisac/project802/Dataloader.py:107: UserWarning: The given NumPy array is not writable, and PyTorch does not support non-writable tensors. This means writing to this tensor will result in undefined behavior. You may want to copy the array to protect its data or make it writable before converting it to a tensor. This type of warning will be suppressed for the rest of this program. (Triggered internally at /opt/conda/conda-bld/pytorch_1674893616450/work/torch/csrc/utils/tensor_numpy.cpp:206.)\n",
      "  label_image = torch.from_numpy(np.transpose(label_image,(2,0,1)))\n",
      "/research/hal-gaudisac/project802/Dataloader.py:107: UserWarning: The given NumPy array is not writable, and PyTorch does not support non-writable tensors. This means writing to this tensor will result in undefined behavior. You may want to copy the array to protect its data or make it writable before converting it to a tensor. This type of warning will be suppressed for the rest of this program. (Triggered internally at /opt/conda/conda-bld/pytorch_1674893616450/work/torch/csrc/utils/tensor_numpy.cpp:206.)\n",
      "  label_image = torch.from_numpy(np.transpose(label_image,(2,0,1)))\n",
      "/research/hal-gaudisac/project802/Dataloader.py:107: UserWarning: The given NumPy array is not writable, and PyTorch does not support non-writable tensors. This means writing to this tensor will result in undefined behavior. You may want to copy the array to protect its data or make it writable before converting it to a tensor. This type of warning will be suppressed for the rest of this program. (Triggered internally at /opt/conda/conda-bld/pytorch_1674893616450/work/torch/csrc/utils/tensor_numpy.cpp:206.)\n",
      "  label_image = torch.from_numpy(np.transpose(label_image,(2,0,1)))\n",
      "/research/hal-gaudisac/project802/Dataloader.py:107: UserWarning: The given NumPy array is not writable, and PyTorch does not support non-writable tensors. This means writing to this tensor will result in undefined behavior. You may want to copy the array to protect its data or make it writable before converting it to a tensor. This type of warning will be suppressed for the rest of this program. (Triggered internally at /opt/conda/conda-bld/pytorch_1674893616450/work/torch/csrc/utils/tensor_numpy.cpp:206.)\n",
      "  label_image = torch.from_numpy(np.transpose(label_image,(2,0,1)))\n",
      "/research/hal-gaudisac/project802/Dataloader.py:107: UserWarning: The given NumPy array is not writable, and PyTorch does not support non-writable tensors. This means writing to this tensor will result in undefined behavior. You may want to copy the array to protect its data or make it writable before converting it to a tensor. This type of warning will be suppressed for the rest of this program. (Triggered internally at /opt/conda/conda-bld/pytorch_1674893616450/work/torch/csrc/utils/tensor_numpy.cpp:206.)\n",
      "  label_image = torch.from_numpy(np.transpose(label_image,(2,0,1)))\n"
     ]
    }
   ],
   "source": [
    "train_dataloader = DataLoader(train_dataset,shuffle=True,batch_size=1000,num_workers=4,pin_memory=True,persistent_workers=True)\n",
    "test_dataloader = DataLoader(test_dataset,shuffle=False,batch_size=1000,num_workers=4,pin_memory=True,persistent_workers=True)\n",
    "X_t,l_t,y_t,s_t = next(iter(train_dataloader))#train_dataset[:1000]\n",
    "X_v,l_v,y_v,s_v = next(iter(test_dataloader))#test_dataset[:1000] \n",
    "U = classCondPerm(X_t,y_t)"
   ]
  },
  {
   "cell_type": "code",
   "execution_count": 12,
   "metadata": {},
   "outputs": [
    {
     "data": {
      "image/png": "[encoded data removed]",
      "text/plain": [
       "<Figure size 640x480 with 3 Axes>"
      ]
     },
     "metadata": {},
     "output_type": "display_data"
    }
   ],
   "source": [
    "import matplotlib.pyplot as plt\n",
    "fig,ax = plt.subplots(1,3)\n",
    "ax[0].imshow(np.transpose((U[y_t==8] )[1],(1,2,0)))\n",
    "ax[1].imshow(np.transpose((U[y_t==0] )[1],(1,2,0)))\n",
    "ax[2].imshow(np.transpose((U[y_t==2] )[1],(1,2,0)))\n",
    "fig.show()"
   ]
  },
  {
   "cell_type": "code",
   "execution_count": 19,
   "metadata": {},
   "outputs": [
    {
     "data": {
      "text/plain": [
       "Pipeline(steps=[('standardscaler', StandardScaler()),\n",
       "                ('svc', SVC(gamma='auto'))])"
      ]
     },
     "execution_count": 19,
     "metadata": {},
     "output_type": "execute_result"
    }
   ],
   "source": [
    "from sklearn.pipeline import make_pipeline\n",
    "from sklearn.preprocessing import StandardScaler\n",
    "from sklearn.svm import SVC\n",
    "from Metrics import ComputeMetrics\n",
    "compute_metrics =ComputeMetrics(10)\n",
    "clf = make_pipeline(StandardScaler(), SVC(gamma='auto'))\n",
    "clf.fit(X_t, y_t)"
   ]
  },
  {
   "cell_type": "code",
   "execution_count": 31,
   "metadata": {},
   "outputs": [],
   "source": [
    "l=[]\n",
    "for X_v,y_v,s_v in iter(test_dataloader):\n",
    "    Xv_flat  = X_v.flatten(start_dim=1)\n",
    "    y_pred = clf.predict(Xv_flat)\n",
    "    metrics = compute_metrics(torch.tensor(y_pred),y_v)\n",
    "    l.append(metrics)"
   ]
  },
  {
   "cell_type": "code",
   "execution_count": 35,
   "metadata": {},
   "outputs": [
    {
     "data": {
      "text/plain": [
       "(0.41508861184120177, 0.0077237196693616325)"
      ]
     },
     "execution_count": 35,
     "metadata": {},
     "output_type": "execute_result"
    }
   ],
   "source": [
    "u =[]\n",
    "for metric in l:\n",
    "    u.append(metric[1][\"recall\"].item())\n",
    "u = np.array(u)\n",
    "u.mean(),np.sqrt(u.var())"
   ]
  },
  {
   "cell_type": "code",
   "execution_count": 36,
   "metadata": {},
   "outputs": [],
   "source": [
    "l=[]\n",
    "for X_v,y_v,s_v in iter(train_dataloader):\n",
    "    Xv_flat  = X_v.flatten(start_dim=1)\n",
    "    y_pred = clf.predict(Xv_flat)\n",
    "    metrics = compute_metrics(torch.tensor(y_pred),y_v)\n",
    "    l.append(metrics)\n",
    "    break"
   ]
  },
  {
   "cell_type": "code",
   "execution_count": 37,
   "metadata": {},
   "outputs": [
    {
     "data": {
      "text/plain": [
       "(0.8958479166030884, 0.0)"
      ]
     },
     "execution_count": 37,
     "metadata": {},
     "output_type": "execute_result"
    },
    {
     "ename": "",
     "evalue": "",
     "output_type": "error",
     "traceback": [
      "\u001b[1;31mThe Kernel crashed while executing code in the the current cell or a previous cell. Please review the code in the cell(s) to identify a possible cause of the failure. Click <a href='https://aka.ms/vscodeJupyterKernelCrash'>here</a> for more info. View Jupyter <a href='command:jupyter.viewOutput'>log</a> for further details."
     ]
    }
   ],
   "source": [
    "u =[]\n",
    "for metric in l:\n",
    "    u.append(metric[1][\"accuracy\"].item())\n",
    "u = np.array(u)\n",
    "u.mean(),np.sqrt(u.var())"
   ]
  },
  {
   "cell_type": "code",
   "execution_count": 30,
   "metadata": {},
   "outputs": [
    {
     "name": "stderr",
     "output_type": "stream",
     "text": [
      "/research/hal-gaudisac/anaconda3/lib/python3.9/site-packages/sklearn/linear_model/_logistic.py:814: ConvergenceWarning: lbfgs failed to converge (status=1):\n",
      "STOP: TOTAL NO. of ITERATIONS REACHED LIMIT.\n",
      "\n",
      "Increase the number of iterations (max_iter) or scale the data as shown in:\n",
      "    https://scikit-learn.org/stable/modules/preprocessing.html\n",
      "Please also refer to the documentation for alternative solver options:\n",
      "    https://scikit-learn.org/stable/modules/linear_model.html#logistic-regression\n",
      "  n_iter_i = _check_optimize_result(\n"
     ]
    }
   ],
   "source": [
    "from sklearn.linear_model import LogisticRegression\n",
    "clf = LogisticRegression(random_state=0).fit(X_t, y_t)"
   ]
  },
  {
   "cell_type": "code",
   "execution_count": null,
   "metadata": {},
   "outputs": [],
   "source": []
  }
 ],
 "metadata": {
  "kernelspec": {
   "display_name": "base",
   "language": "python",
   "name": "python3"
  },
  "language_info": {
   "codemirror_mode": {
    "name": "ipython",
    "version": 3
   },
   "file_extension": ".py",
   "mimetype": "text/x-python",
   "name": "python",
   "nbconvert_exporter": "python",
   "pygments_lexer": "ipython3",
   "version": "3.9.13"
  },
  "orig_nbformat": 4
 },
 "nbformat": 4,
 "nbformat_minor": 2
}
